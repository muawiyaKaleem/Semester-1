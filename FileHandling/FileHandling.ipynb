{
 "cells": [
  {
   "cell_type": "markdown",
   "id": "3519bd1d",
   "metadata": {},
   "source": [
    "# Printing 4 characters of each line "
   ]
  },
  {
   "cell_type": "code",
   "execution_count": 10,
   "id": "1b0b3fd2",
   "metadata": {},
   "outputs": [
    {
     "name": "stdout",
     "output_type": "stream",
     "text": [
      "Names including only first four characters\n",
      "Atif    Umer    Anna    Aime    Faro    Hamz    Ali    Ahme    Ibra    Saad    Raza    Mich    "
     ]
    }
   ],
   "source": [
    "# Task 1(a)\n",
    "file = open(\"names.txt\",\"r\")\n",
    "print('Names including only first four characters')\n",
    "for i in file:\n",
    "    i = i.strip(\"\\n\")\n",
    "    print (i[0:4],'   ',end='')"
   ]
  },
  {
   "cell_type": "markdown",
   "id": "610815da",
   "metadata": {},
   "source": [
    "# Total characters in the file"
   ]
  },
  {
   "cell_type": "code",
   "execution_count": 2,
   "id": "0d8a1190",
   "metadata": {},
   "outputs": [
    {
     "name": "stdout",
     "output_type": "stream",
     "text": [
      "total characters in file are =>  56\n"
     ]
    }
   ],
   "source": [
    "# Task 1(b)\n",
    "file = open(\"names.txt\",\"r\")\n",
    "names = file.read()\n",
    "\n",
    "s = 0\n",
    "for i in names:\n",
    "    i = i.strip(\"\\n\")\n",
    "    s = s+len(i)\n",
    "    \n",
    "print('total characters in file are => ',s)"
   ]
  },
  {
   "cell_type": "markdown",
   "id": "68a3455a",
   "metadata": {},
   "source": [
    "# Average of the characters in each line"
   ]
  },
  {
   "cell_type": "code",
   "execution_count": 11,
   "id": "ffecce0d",
   "metadata": {},
   "outputs": [
    {
     "name": "stdout",
     "output_type": "stream",
     "text": [
      "average characters in each line =>  4.67\n"
     ]
    }
   ],
   "source": [
    "# Task 1(c)\n",
    "file = open(\"names.txt\",\"r\")\n",
    "\n",
    "s = 0\n",
    "c = 0\n",
    "for i in file:\n",
    "    i = i.strip(\"\\n\")\n",
    "    s = s+len(i)\n",
    "    c+=1\n",
    "print('average characters in each line => ',round(s/c,2))\n"
   ]
  },
  {
   "cell_type": "markdown",
   "id": "bfb4bc5e",
   "metadata": {},
   "source": [
    "# Shortest line in the file"
   ]
  },
  {
   "cell_type": "code",
   "execution_count": 12,
   "id": "deb1a6b3",
   "metadata": {},
   "outputs": [
    {
     "name": "stdout",
     "output_type": "stream",
     "text": [
      "shortest name in the file =>  Ali\n",
      "charachters in shortest name in the file =>  3\n"
     ]
    }
   ],
   "source": [
    "#Task 1(d)\n",
    "file = open(\"names.txt\",\"r\")\n",
    "s_n = file.readline()\n",
    "s_n = s_n.strip('\\n')\n",
    "m = len(s_n)\n",
    "for i in file:\n",
    "    i = i.strip(\"\\n\")\n",
    "    if len(i) < m:\n",
    "        s_n = i\n",
    "        m = len(i)\n",
    "print('shortest name in the file => ',s_n)\n",
    "print('charachters in shortest name in the file => ',m)\n",
    "        \n"
   ]
  },
  {
   "cell_type": "markdown",
   "id": "b326fbef",
   "metadata": {},
   "source": [
    "# Print lines acording to the user defined number of characters"
   ]
  },
  {
   "cell_type": "code",
   "execution_count": 5,
   "id": "8a987b66",
   "metadata": {},
   "outputs": [
    {
     "name": "stdout",
     "output_type": "stream",
     "text": [
      "Enter the length => 4\n",
      "Name(s) with 4 characters is/are:\n",
      "Atif\n",
      "Umer\n",
      "Anna\n",
      "Saad\n",
      "Raza\n"
     ]
    }
   ],
   "source": [
    "#Task 1(e)\n",
    "file = open(\"names.txt\",\"r\")\n",
    "\n",
    "def Print(p):\n",
    "    print('Name(s) with {a} characters is/are:'.format(a = p))\n",
    "    for i in file:\n",
    "        i = i.strip('\\n')\n",
    "        if len(i) == p:\n",
    "            print(i)\n",
    "            \n",
    "n = int(input('Enter the length => '))\n",
    "Print(n)"
   ]
  },
  {
   "cell_type": "markdown",
   "id": "488801c7",
   "metadata": {},
   "source": [
    "# Creating new file having extra string values"
   ]
  },
  {
   "cell_type": "code",
   "execution_count": 14,
   "id": "3117e82d",
   "metadata": {},
   "outputs": [],
   "source": [
    "#Task 1(f)\n",
    "file = open(\"names.txt\",\"r\")\n",
    "file_1 = open(\"name_subj.txt\",\"w\")\n",
    "\n",
    "for i in file:\n",
    "    i=i.strip('\\n')\n",
    "    s= i+\"\\t\\tPrograming Fundamental lab, Programing Fundamental, English composition, Calculus_1\\n\"\n",
    "    file_1.write(s)\n",
    "file_1.close()"
   ]
  },
  {
   "cell_type": "markdown",
   "id": "b535788e",
   "metadata": {},
   "source": [
    "# checking whether the line(name) exists in the file or not"
   ]
  },
  {
   "cell_type": "code",
   "execution_count": 15,
   "id": "90bad194",
   "metadata": {},
   "outputs": [
    {
     "name": "stdout",
     "output_type": "stream",
     "text": [
      "Enter the name => Ali\n",
      "Name Ali is in the File\n"
     ]
    }
   ],
   "source": [
    "#Task 1(g)\n",
    "file = open(\"names.txt\",\"r\")\n",
    "\n",
    "def Print(p):\n",
    "    for i in file:\n",
    "        i = i.strip('\\n')\n",
    "        if i == p:\n",
    "            c = True\n",
    "            break\n",
    "        else:\n",
    "            c = False\n",
    "    if c==True:\n",
    "        print('Name',p,'is in the File')\n",
    "    else:\n",
    "        print('Name',p,'is not in the File')\n",
    "            \n",
    "n = input('Enter the name => ')\n",
    "Print(n)"
   ]
  },
  {
   "cell_type": "code",
   "execution_count": null,
   "id": "c0d4e7de",
   "metadata": {},
   "outputs": [],
   "source": []
  }
 ],
 "metadata": {
  "kernelspec": {
   "display_name": "Python 3 (ipykernel)",
   "language": "python",
   "name": "python3"
  },
  "language_info": {
   "codemirror_mode": {
    "name": "ipython",
    "version": 3
   },
   "file_extension": ".py",
   "mimetype": "text/x-python",
   "name": "python",
   "nbconvert_exporter": "python",
   "pygments_lexer": "ipython3",
   "version": "3.9.7"
  }
 },
 "nbformat": 4,
 "nbformat_minor": 5
}
