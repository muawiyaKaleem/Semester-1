{
 "cells": [
  {
   "cell_type": "markdown",
   "id": "b4b870c8",
   "metadata": {},
   "source": [
    "# Printing keys and values of a dictionary and taking sum of values"
   ]
  },
  {
   "cell_type": "code",
   "execution_count": 1,
   "id": "379b62e1",
   "metadata": {},
   "outputs": [
    {
     "name": "stdout",
     "output_type": "stream",
     "text": [
      "{'value 1': 2, 'value 2': 6, 'value 3': 11, 'value 4': 13, 'value 5': 20}\n",
      "\n",
      "Keys and values are:\n",
      "value 1 => 2\n",
      "value 2 => 6\n",
      "value 3 => 11\n",
      "value 4 => 13\n",
      "value 5 => 20\n",
      "\n",
      "\n",
      "Sum is even\n"
     ]
    }
   ],
   "source": [
    "# Task 1\n",
    "\n",
    "def Dictionary(x):\n",
    "    print('Keys/values:')\n",
    "    for i in x:\n",
    "        print(i,'=',x[i])\n",
    "    sum=0\n",
    "    for i in x:\n",
    "        s+=x[i]\n",
    "    return s\n",
    "dictionary={'value 1':2,'value 2':6,'value 3':11,'value 4':13,'value 5':20}\n",
    "\n",
    "if function(n)%2==0:\n",
    "    print('\\n\\nSum is even')\n",
    "else:\n",
    "    print('\\n\\nSum is odd')\n"
   ]
  },
  {
   "cell_type": "markdown",
   "id": "64b650ef",
   "metadata": {},
   "source": [
    "# Searching sapacific element from the list"
   ]
  },
  {
   "cell_type": "code",
   "execution_count": 3,
   "id": "d77f5fd5",
   "metadata": {},
   "outputs": [
    {
     "name": "stdout",
     "output_type": "stream",
     "text": [
      "Which element you want to search => 67\n",
      "\n",
      "\n",
      "Number is not in the list\n"
     ]
    }
   ],
   "source": [
    "# Tas 3\n",
    "def function(x,y):\n",
    "    \n",
    "    # This loop is telling us the index location of the element(if exists)\n",
    "    for i in range(len(x)):\n",
    "        for j in range(len(x[i])):\n",
    "            if x[i][j]==y:\n",
    "                print('\\nThe index value is => ({a},{b})'.format(a=i,b=j))\n",
    "    # This loop is telling us Wheter the element is in the list or not\n",
    "    for i in x:\n",
    "        for j in i:\n",
    "            if j==y:\n",
    "                check=True\n",
    "                break\n",
    "            else:\n",
    "                check=False\n",
    "        if check==True:\n",
    "            break\n",
    "    if check==True:\n",
    "        print('\\n\\nNumber is in the list')\n",
    "    elif check==False:\n",
    "        print('\\n\\nNumber is not in the list')\n",
    "\n",
    "L=[[1,2,3],[4,5,6],[7,8,9]]\n",
    "n=int(input('Which element you want to search => '))\n",
    "function(L,n)\n",
    "    "
   ]
  },
  {
   "cell_type": "markdown",
   "id": "e5152a0f",
   "metadata": {},
   "source": [
    "# Gpa calculator"
   ]
  },
  {
   "cell_type": "code",
   "execution_count": 6,
   "id": "eaad82a4",
   "metadata": {},
   "outputs": [
    {
     "name": "stdout",
     "output_type": "stream",
     "text": [
      "number of subjects: 2\n",
      "grade of subject : A\n",
      "cradit hours of subject : 2\n",
      "grade of subject : B\n",
      "cradit hours of subject : 2\n",
      "GPA is :  3.5\n"
     ]
    }
   ],
   "source": [
    "Grade= {\n",
    "    'A': 4.0,\n",
    "    'A-':3.67,\n",
    "    'B+':3.33,\n",
    "    'B':3,\n",
    "    'B-':2.67,\n",
    "    'C+':2.33,\n",
    "    'C':2.0,\n",
    "    'C-':1.67,\n",
    "    'D+':1.33,\n",
    "    'D':1.0,\n",
    "    'F':0\n",
    "}\n",
    "def Gpa(a):\n",
    "    t = 0\n",
    "    f = 0\n",
    "    for i in range(a):\n",
    "        subject=str(input('grade of subject : '))\n",
    "        cradit_hours=int(input('cradit hours of subject : '))\n",
    "        t += cradit_hours\n",
    "        f += Grade[subject]*cradit_hours \n",
    "    print('GPA is : ',f/t)\n",
    "\n",
    "sub = int(input('number of subjects: '))\n",
    "Gpa(sub)"
   ]
  },
  {
   "cell_type": "code",
   "execution_count": null,
   "id": "33ae4fa7",
   "metadata": {},
   "outputs": [],
   "source": []
  }
 ],
 "metadata": {
  "kernelspec": {
   "display_name": "Python 3 (ipykernel)",
   "language": "python",
   "name": "python3"
  },
  "language_info": {
   "codemirror_mode": {
    "name": "ipython",
    "version": 3
   },
   "file_extension": ".py",
   "mimetype": "text/x-python",
   "name": "python",
   "nbconvert_exporter": "python",
   "pygments_lexer": "ipython3",
   "version": "3.9.7"
  }
 },
 "nbformat": 4,
 "nbformat_minor": 5
}
