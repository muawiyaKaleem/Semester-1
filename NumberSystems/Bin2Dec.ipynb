{
 "cells": [
  {
   "cell_type": "markdown",
   "id": "4db95a62",
   "metadata": {},
   "source": [
    "# Binary To Decimal Convertor"
   ]
  },
  {
   "cell_type": "code",
   "execution_count": 21,
   "id": "c7daab12",
   "metadata": {},
   "outputs": [
    {
     "name": "stdout",
     "output_type": "stream",
     "text": [
      "\n",
      "\t\tENTER THE NUMBER IN BINARY FORM => 1100\n",
      "\n",
      "\t\tTHE DECIMAL FORM OF ( 1100 ) IS =>   12\n"
     ]
    }
   ],
   "source": [
    "def Convertor(x):\n",
    "    result = 0\n",
    "    for i in range(len(str(x))):\n",
    "        digit = x % 10\n",
    "        if digit==1:\n",
    "            result += digit*pow(2,i)\n",
    "        x //= 10\n",
    "    return result\n",
    "\n",
    "number=int(input(\"\\n\\t\\tENTER THE NUMBER IN BINARY FORM => \"))\n",
    "\n",
    "result = Convertor(number)\n",
    "\n",
    "print('\\n\\t\\tTHE DECIMAL FORM OF (',number,') IS =>  ',result)"
   ]
  },
  {
   "cell_type": "code",
   "execution_count": null,
   "id": "7836f79b",
   "metadata": {},
   "outputs": [],
   "source": []
  }
 ],
 "metadata": {
  "kernelspec": {
   "display_name": "Python 3 (ipykernel)",
   "language": "python",
   "name": "python3"
  },
  "language_info": {
   "codemirror_mode": {
    "name": "ipython",
    "version": 3
   },
   "file_extension": ".py",
   "mimetype": "text/x-python",
   "name": "python",
   "nbconvert_exporter": "python",
   "pygments_lexer": "ipython3",
   "version": "3.9.7"
  }
 },
 "nbformat": 4,
 "nbformat_minor": 5
}
