{
 "cells": [
  {
   "cell_type": "markdown",
   "id": "55bf245d",
   "metadata": {},
   "source": [
    "# Decimal To Binary Convertor"
   ]
  },
  {
   "cell_type": "code",
   "execution_count": 2,
   "id": "687618ee",
   "metadata": {},
   "outputs": [
    {
     "name": "stdout",
     "output_type": "stream",
     "text": [
      "\n",
      "\t\tENTER THE NUMBER IN DECIMAL FORM => 32\n",
      "\n",
      "\t\tTHE BINARY FORM OF ( 32 ) IS =>   1 0 0 0 0 0 "
     ]
    }
   ],
   "source": [
    "def Convertor(x):\n",
    "    result = []\n",
    "    if x>0:\n",
    "        while(x>0):\n",
    "            rem = x % 2\n",
    "            x //= 2\n",
    "            result.append(rem)\n",
    "\n",
    "        if len(result)==3:\n",
    "            result.insert(4,0)\n",
    "\n",
    "        elif len(result)==2:\n",
    "\n",
    "            for i in range(2,0,-1):\n",
    "                result.insert(i+1,0)\n",
    "\n",
    "        elif len(result)==1:\n",
    "\n",
    "            for i in range(3,0,-1):\n",
    "                result.insert(i+1,0)\n",
    "    elif x==0:\n",
    "        result = [0,0,0,0]\n",
    "    \n",
    "    else:\n",
    "        print('\\n\\t\\tNO BINARY FOR NEGITIVE NUMBERS')\n",
    "        \n",
    "    return result\n",
    "\n",
    "number=int(input(\"\\n\\t\\tENTER THE NUMBER IN DECIMAL FORM => \"))\n",
    "\n",
    "result = Convertor(number)\n",
    "\n",
    "print('\\n\\t\\tTHE BINARY FORM OF (',number,') IS =>  ',end=' ')\n",
    "\n",
    "for i in result[::-1]:\n",
    "    print(i,end=' ')"
   ]
  },
  {
   "cell_type": "code",
   "execution_count": null,
   "id": "9dca4007",
   "metadata": {},
   "outputs": [],
   "source": []
  }
 ],
 "metadata": {
  "kernelspec": {
   "display_name": "Python 3 (ipykernel)",
   "language": "python",
   "name": "python3"
  },
  "language_info": {
   "codemirror_mode": {
    "name": "ipython",
    "version": 3
   },
   "file_extension": ".py",
   "mimetype": "text/x-python",
   "name": "python",
   "nbconvert_exporter": "python",
   "pygments_lexer": "ipython3",
   "version": "3.9.7"
  }
 },
 "nbformat": 4,
 "nbformat_minor": 5
}
