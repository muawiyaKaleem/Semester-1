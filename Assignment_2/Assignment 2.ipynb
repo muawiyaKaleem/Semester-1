{
 "cells": [
  {
   "cell_type": "markdown",
   "id": "6e8c0531",
   "metadata": {},
   "source": [
    "# Shipment of coookies acording to the user"
   ]
  },
  {
   "cell_type": "code",
   "execution_count": 17,
   "id": "769a9fd6",
   "metadata": {},
   "outputs": [
    {
     "name": "stdout",
     "output_type": "stream",
     "text": [
      "Enter the number of cookies => 3298747\n",
      "Enter the number of cookies a box can hold => 35\n",
      "Enter the number of boxes a container can hold => 65\n",
      "Number of containers to ship =  1449\n",
      "Number of boxes left  =  64\n",
      "Number of coockies left =  32\n"
     ]
    }
   ],
   "source": [
    "def ship(p,q=24,r=75): # function having default values of boxes and container\n",
    "    b = p//q\n",
    "    l_c = p%q\n",
    "    con = b//r\n",
    "    l_b = b%r\n",
    "    return l_c,l_b,con # cookies and boxes to discard and containers to ship\n",
    "# inputs from user\n",
    "t = int(input('Enter the number of cookies => '))\n",
    "u = int(input('Enter the number of cookies a box can hold => '))\n",
    "v = int(input('Enter the number of boxes a container can hold => '))\n",
    "# function call\n",
    "e,f,g = ship(t,u,v)\n",
    "# outputs\n",
    "print('Number of containers to ship = ',g )\n",
    "print('Number of boxes left  = ',f )\n",
    "print('Number of coockies left = ',e )"
   ]
  },
  {
   "cell_type": "markdown",
   "id": "35928ed1",
   "metadata": {},
   "source": [
    "# Finding the perfect number"
   ]
  },
  {
   "cell_type": "code",
   "execution_count": 11,
   "id": "64ca21e9",
   "metadata": {},
   "outputs": [
    {
     "name": "stdout",
     "output_type": "stream",
     "text": [
      "1 + 2 + 3 = 6\n",
      "1 + 2 + 4 + 7 + 14 = 28\n",
      "1 + 2 + 4 + 8 + 16 + 31 + 62 + 124 + 248 = 496\n",
      "1 + 2 + 4 + 8 + 16 + 32 + 64 + 127 + 254 + 508 + 1016 + 2032 + 4064 = 8128\n"
     ]
    }
   ],
   "source": [
    "def perfect(p): # function having argument to the limit\n",
    "    i=3\n",
    "    c=0\n",
    "    l=[]\n",
    "    while(True): # loop to generate perfect numbers\n",
    "        a=0\n",
    "        j=1\n",
    "        while(j<i): # loop to generate factors of perfect number and their addition\n",
    "            if i%j==0:\n",
    "                a+=j\n",
    "            j+=1\n",
    "                \n",
    "        if a==i: # check to get the perfet number from its factors addition\n",
    "            for j in range(1,i): # loop to print the factors\n",
    "                if i%j==0:\n",
    "                    if (j*2)==i: # check to eliminate the last + sign\n",
    "                        print(str(j),end='')\n",
    "                    else:\n",
    "                        print(str(j)+' + ',end='')\n",
    "            print(' =',i) # printing the perfect number\n",
    "            c+=1 # counter to count the perfect numbers\n",
    "        \n",
    "        if c==p:\n",
    "            break\n",
    "        i+=1\n",
    "perfect(4)"
   ]
  },
  {
   "cell_type": "markdown",
   "id": "328535f8",
   "metadata": {},
   "source": [
    "# Calculating the given series"
   ]
  },
  {
   "cell_type": "code",
   "execution_count": 19,
   "id": "d8721087",
   "metadata": {},
   "outputs": [
    {
     "name": "stdout",
     "output_type": "stream",
     "text": [
      "enter the value of n: 4\n",
      "enter the value of x: 3\n",
      "Sum of Series =>  16.375\n"
     ]
    }
   ],
   "source": [
    "# Factorial calculator function\n",
    "def factorial(p):\n",
    "    f = 1\n",
    "    for i in range(1,p+1):\n",
    "        f *= i\n",
    "    return f\n",
    "# series calculator function\n",
    "def series(e,f,g):\n",
    "    for k in range(e+1):\n",
    "        g = g + pow(f,k)/factorial(k) # taking factorial from the factorial function\n",
    "    return g # returning sum of the series\n",
    "# inputs from the user\n",
    "n=int(input(\"enter the value of n: \"))\n",
    "x=int(input(\"enter the value of x: \"))\n",
    "s=0\n",
    "s = series(n,x,s) # function call\n",
    "print('Sum of Series => ',s) # output"
   ]
  },
  {
   "cell_type": "markdown",
   "id": "3b1ad02d",
   "metadata": {},
   "source": [
    "# Printing the diamond pattren"
   ]
  },
  {
   "cell_type": "code",
   "execution_count": 21,
   "id": "cb601ecb",
   "metadata": {},
   "outputs": [
    {
     "name": "stdout",
     "output_type": "stream",
     "text": [
      "enter the number of rows:  9\n",
      "\n",
      "          0\n",
      "         1 1\n",
      "        2 2 2\n",
      "       3 3 3 3\n",
      "      4 4 4 4 4\n",
      "     5 5 5 5 5 5\n",
      "    6 6 6 6 6 6 6\n",
      "   7 7 7 7 7 7 7 7\n",
      "  8 8 8 8 8 8 8 8 8\n",
      " 9 9 9 9 9 9 9 9 9 9\n",
      "  8 8 8 8 8 8 8 8 8 \n",
      "   7 7 7 7 7 7 7 7 \n",
      "    6 6 6 6 6 6 6 \n",
      "     5 5 5 5 5 5 \n",
      "      4 4 4 4 4 \n",
      "       3 3 3 3 \n",
      "        2 2 2 \n",
      "         1 1 \n",
      "          0 \n"
     ]
    }
   ],
   "source": [
    "def printing(p): # function to get size \n",
    "    for i in range(p,-1,-1):  # loop to itrate rows\n",
    "        for j in range(i): # loop to itrate column\n",
    "            print(' ',end='') # spaces\n",
    "        print((' '+str(p-i))*(p-i+1)) # adjusting the pattren number with the number of printings\n",
    "        \n",
    "    # Just making the uper pattren upside down with minor changes\n",
    "    for i in range(1,p+1):\n",
    "        print(' '*(i+1),end='') # incriment of spaces\n",
    "        for j in range(p-i+1): # how many times will it print\n",
    "            print(str(p-i)+' ',end='') # what will it print\n",
    "        print()\n",
    "\n",
    "# input from user\n",
    "n=int(input(\"enter the number of rows:  \"))\n",
    "print()\n",
    "printing(n) # function call"
   ]
  },
  {
   "cell_type": "markdown",
   "id": "6b9861cc",
   "metadata": {},
   "source": [
    "# Multiplication of two user defined matrices"
   ]
  },
  {
   "cell_type": "code",
   "execution_count": 24,
   "id": "263a0f65",
   "metadata": {},
   "outputs": [
    {
     "name": "stdout",
     "output_type": "stream",
     "text": [
      "Enter the number of rows of Matrix 1 => 2\n",
      "Enter the number of colums of Matrix 1 => 3\n",
      "--------------------------------------------------\n",
      "Enter the number of rows of Matrix 2 => 2\n",
      "Enter the number of colums of Matrix 2 => 3\n",
      "--------------------------------------------------\n",
      "\n",
      "-----------------------------------------------------------------\n",
      " Error! Column of first matrix is not equal to rows of 2nd matrix!\n",
      " -----------------------------------------------------------------\n",
      "\n",
      "Enter the number of rows of Matrix 1 => 2\n",
      "Enter the number of colums of Matrix 1 => 3\n",
      "--------------------------------------------------\n",
      "Enter the number of rows of Matrix 2 => 3\n",
      "Enter the number of colums of Matrix 2 => 2\n",
      "--------------------------------------------------\n",
      "\n",
      "\t\t\t--------\n",
      "\t\t\tMATRIX 1\n",
      "\t\t\t--------\n",
      "Enter the element (0,0) => 1\n",
      "Enter the element (0,1) => 2\n",
      "Enter the element (0,2) => 3\n",
      "Enter the element (1,0) => 4\n",
      "Enter the element (1,1) => 5\n",
      "Enter the element (1,2) => 6\n",
      "\n",
      "\t\t\t--------\n",
      "\t\t\tMATRIX 2\n",
      "\t\t\t--------\n",
      "Enter the element (0,0) => 7\n",
      "Enter the element (0,1) => 8\n",
      "Enter the element (1,0) => 9\n",
      "Enter the element (1,1) => 10\n",
      "Enter the element (2,0) => 11\n",
      "Enter the element (2,1) => 12\n",
      "\n",
      "\t\t\t-------------\n",
      "\t\t\tFINAL RESULT\n",
      "\t\t\t-------------\n",
      "\t\t--------\n",
      "\t\tMATRIX 1\n",
      "\t\t-------- \n",
      "\n",
      "1     2     3     \n",
      "4     5     6     \n",
      "\n",
      "\t\t--------\n",
      "\t\tMATRIX 2\n",
      "\t\t-------- \n",
      "\n",
      "7     8     \n",
      "9     10     \n",
      "11     12     \n",
      "\n",
      "\t\t--------\n",
      "\t\tPRODUCT\n",
      "\t\t-------- \n",
      "\n",
      "58     64     \n",
      "139     154     \n"
     ]
    }
   ],
   "source": [
    "def matrix(p,q): # Function to makematrix matrix with user defined rows and colums\n",
    "    m = []\n",
    "    for i in range(p): # iterating over rows\n",
    "        r = []\n",
    "        for j in range(q): # iterating over colums\n",
    "            v=int(input('Enter the element ({a},{b}) => '.format(a=i,b=j)))\n",
    "            r.append(v) # creating  rows\n",
    "        m.append(r) # append rowS to empty list\n",
    "    return m # matrix created and returned\n",
    "\n",
    "def result(e,f): # Function to calculate the product\n",
    "    fin=[] \n",
    "    for i in range(len(e)): # iterating over number of rows of  matrix 1\n",
    "        r = []\n",
    "        for j in range(len(f[0])):# iterating over number of colums of matrix 2\n",
    "            s=0\n",
    "            for k in range(len(f)):# iterating over number of rows of matrix 2\n",
    "                s += e[i][k]*f[k][j] # mltiplication and sum\n",
    "            r.append(s) # creating rows\n",
    "        fin.append(r) # appending rows in empty list \n",
    "    return fin # Product matrix  created and returned\n",
    "\n",
    "def printing(q): # Function to print the values of matrix\n",
    "    for i in q:\n",
    "        for j in i:\n",
    "            print(j,' '*4,end='')\n",
    "        print()\n",
    "\n",
    "def main(): # function for input and output\n",
    "    r_1 = int(input('Enter the number of rows of Matrix 1 => '))\n",
    "    c_1 = int(input('Enter the number of colums of Matrix 1 => '))\n",
    "    print('-'*50)\n",
    "    r_2 = int(input('Enter the number of rows of Matrix 2 => '))\n",
    "    c_2 = int(input('Enter the number of colums of Matrix 2 => '))\n",
    "    print('-'*50)\n",
    "    print()\n",
    "    \n",
    "    if c_1 == r_2: # condition to check whether the product is valid or not\n",
    "        print('\\t\\t\\t'+'-'*8+'\\n\\t\\t\\tMATRIX 1\\n\\t\\t\\t'+'-'*8)\n",
    "        s = matrix(r_1,c_1) # creating matrix 1\n",
    "        print()\n",
    "        print('\\t\\t\\t'+'-'*8+'\\n\\t\\t\\tMATRIX 2\\n\\t\\t\\t'+'-'*8)\n",
    "        t = matrix(r_2,c_2) # creating matrix 2\n",
    "        u = result(s,t) # creating product matrix\n",
    "        print()\n",
    "        \n",
    "        \"\"\"Printig the final result along with the values of matrices\"\"\"\n",
    "        \n",
    "        print('\\t\\t\\t'+'-'*13+'\\n\\t\\t\\tFINAL RESULT\\n\\t\\t\\t'+'-'*13)\n",
    "        print('\\t\\t'+'-'*8+'\\n\\t\\tMATRIX 1\\n\\t\\t'+'-'*8,'\\n')\n",
    "        printing(s)\n",
    "        print('\\n\\t\\t'+'-'*8+'\\n\\t\\tMATRIX 2\\n\\t\\t'+'-'*8,'\\n')\n",
    "        printing(t)\n",
    "        print('\\n\\t\\t'+'-'*8+'\\n\\t\\tPRODUCT\\n\\t\\t'+'-'*8,'\\n')\n",
    "        printing(u)\n",
    "\n",
    "    else:\n",
    "        print('-'*65+'\\n Error! Column of first matrix is not equal to rows of 2nd matrix!\\n '+'-'*65)\n",
    "        print()\n",
    "        main()\n",
    "main()"
   ]
  },
  {
   "cell_type": "markdown",
   "id": "6a57236a",
   "metadata": {},
   "source": []
  }
 ],
 "metadata": {
  "kernelspec": {
   "display_name": "Python 3 (ipykernel)",
   "language": "python",
   "name": "python3"
  },
  "language_info": {
   "codemirror_mode": {
    "name": "ipython",
    "version": 3
   },
   "file_extension": ".py",
   "mimetype": "text/x-python",
   "name": "python",
   "nbconvert_exporter": "python",
   "pygments_lexer": "ipython3",
   "version": "3.9.7"
  }
 },
 "nbformat": 4,
 "nbformat_minor": 5
}
